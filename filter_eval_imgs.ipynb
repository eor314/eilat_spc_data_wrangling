{
 "cells": [
  {
   "cell_type": "markdown",
   "metadata": {},
   "source": [
    "# Filter evaluation images\n",
    "## 11/11/22\n",
    "\n",
    "author: E. Orenstein (eorenstein@mbari.org)\n",
    "\n",
    "Filter SPC data for model evaluation based on up/down current deployment and frame numbers. "
   ]
  },
  {
   "cell_type": "code",
   "execution_count": 1,
   "metadata": {},
   "outputs": [],
   "source": [
    "import matplotlib.pyplot as plt\n",
    "import numpy as np\n",
    "import pandas as pd\n",
    "import os\n",
    "import glob\n",
    "from shutil import copy\n",
    "from utils.symlink_tools import symlink_from_list"
   ]
  },
  {
   "cell_type": "markdown",
   "metadata": {},
   "source": [
    "Preliminaries"
   ]
  },
  {
   "cell_type": "code",
   "execution_count": 2,
   "metadata": {},
   "outputs": [],
   "source": [
    "path_to_symlink = r'D:\\spc_storage\\model_evaluation\\2022-11-11_updownAuto\\unseen_data'  # where to symlink\n",
    "path_to_lookup = r'D:\\model_eval_101122\\lookups'  # where the look up tables are\n",
    "increment = 50000  # the number of frames \n",
    "min_thresh = 70  # minimum major axis threshold\n",
    "max_thresh = 1000000  # maximum major axis threshold\n",
    "\n",
    "# {looktable_basename: first_frame}\n",
    "runs = {\n",
    "    'processed-2021-07-27-03-05-34.041094512-low_mag_cam': 215726,\n",
    "    'processed-2021-07-26-11-10-34.051148696-low_mag_cam': 661,\n",
    "    'processed-2021-07-26-03-05-33.041805816-low_mag_cam': 98515,\n",
    "    'processed-2021-07-25-11-10-36.057611408-low_mag_cam': 12246,\n",
    "    'processed-2021-08-10-09-30-25.044459792-low_mag_cam': 161990,\n",
    "    'processed-2021-08-11-03-05-24.042119200-low_mag_cam': 122840,\n",
    "    'processed-2021-08-09-09-30-27.040390608-low_mag_cam': 119731,    \n",
    "    'processed-2021-08-10-03-05-25.043638328-low_mag_cam': 44755,\n",
    "}"
   ]
  },
  {
   "cell_type": "markdown",
   "metadata": {},
   "source": [
    "Loop over the runs and symlink for model runs."
   ]
  },
  {
   "cell_type": "code",
   "execution_count": 3,
   "metadata": {},
   "outputs": [
    {
     "name": "stdout",
     "output_type": "stream",
     "text": [
      "processed-2021-07-27-03-05-34.041094512-low_mag_cam\n",
      "number of frames in time interval:  24923\n",
      "number of frames after size filter:  1620\n"
     ]
    },
    {
     "name": "stderr",
     "output_type": "stream",
     "text": [
      "symlinking...: 100%|██████████| 1620/1620 [00:00<00:00, 4791.93it/s]\n"
     ]
    },
    {
     "name": "stdout",
     "output_type": "stream",
     "text": [
      "processed-2021-07-26-11-10-34.051148696-low_mag_cam\n",
      "number of frames in time interval:  15079\n",
      "number of frames after size filter:  776\n"
     ]
    },
    {
     "name": "stderr",
     "output_type": "stream",
     "text": [
      "symlinking...: 100%|██████████| 776/776 [00:00<00:00, 5554.24it/s]"
     ]
    },
    {
     "name": "stdout",
     "output_type": "stream",
     "text": [
      "processed-2021-07-26-03-05-33.041805816-low_mag_cam\n"
     ]
    },
    {
     "name": "stderr",
     "output_type": "stream",
     "text": [
      "\n"
     ]
    },
    {
     "name": "stdout",
     "output_type": "stream",
     "text": [
      "number of frames in time interval:  16606\n",
      "number of frames after size filter:  909\n"
     ]
    },
    {
     "name": "stderr",
     "output_type": "stream",
     "text": [
      "symlinking...: 100%|██████████| 909/909 [00:00<00:00, 4105.73it/s]\n"
     ]
    },
    {
     "name": "stdout",
     "output_type": "stream",
     "text": [
      "processed-2021-07-25-11-10-36.057611408-low_mag_cam\n",
      "number of frames in time interval:  18742\n",
      "number of frames after size filter:  999\n"
     ]
    },
    {
     "name": "stderr",
     "output_type": "stream",
     "text": [
      "symlinking...: 100%|██████████| 999/999 [00:00<00:00, 5376.78it/s]\n"
     ]
    },
    {
     "name": "stdout",
     "output_type": "stream",
     "text": [
      "processed-2021-08-10-09-30-25.044459792-low_mag_cam\n",
      "number of frames in time interval:  17430\n",
      "number of frames after size filter:  1501\n"
     ]
    },
    {
     "name": "stderr",
     "output_type": "stream",
     "text": [
      "symlinking...: 100%|██████████| 1501/1501 [00:00<00:00, 4616.52it/s]\n"
     ]
    },
    {
     "name": "stdout",
     "output_type": "stream",
     "text": [
      "processed-2021-08-11-03-05-24.042119200-low_mag_cam\n",
      "number of frames in time interval:  8960\n",
      "number of frames after size filter:  1058\n"
     ]
    },
    {
     "name": "stderr",
     "output_type": "stream",
     "text": [
      "symlinking...: 100%|██████████| 1058/1058 [00:00<00:00, 4299.76it/s]\n"
     ]
    },
    {
     "name": "stdout",
     "output_type": "stream",
     "text": [
      "processed-2021-08-09-09-30-27.040390608-low_mag_cam\n",
      "number of frames in time interval:  18854\n",
      "number of frames after size filter:  1773\n"
     ]
    },
    {
     "name": "stderr",
     "output_type": "stream",
     "text": [
      "symlinking...: 100%|██████████| 1773/1773 [00:00<00:00, 5049.87it/s]\n"
     ]
    },
    {
     "name": "stdout",
     "output_type": "stream",
     "text": [
      "processed-2021-08-10-03-05-25.043638328-low_mag_cam\n",
      "number of frames in time interval:  13220\n",
      "number of frames after size filter:  1168\n"
     ]
    },
    {
     "name": "stderr",
     "output_type": "stream",
     "text": [
      "symlinking...: 100%|██████████| 1168/1168 [00:00<00:00, 4618.83it/s]\n"
     ]
    }
   ],
   "source": [
    "for kk in runs.keys():\n",
    "\n",
    "    print(kk)\n",
    "    # read the look up table\n",
    "    tmp = pd.read_csv(os.path.join(path_to_lookup, f'{kk}.csv'), index_col=[0])\n",
    "\n",
    "    # get the slice observed by the human annotator\n",
    "    tmp = tmp[tmp['frame_number'].between(runs[kk], runs[kk]+50000)]\n",
    "\n",
    "    print('number of frames in time interval: ', tmp.shape[0])\n",
    "\n",
    "    # filter by major axis length\n",
    "    tmp = tmp[tmp['major_axis_length'].between(min_thresh, max_thresh)]\n",
    "    print('number of frames after size filter: ', tmp.shape[0])\n",
    "    \n",
    "    # symlink the images \n",
    "    outpath = os.path.join(path_to_symlink, kk)\n",
    "    if not os.path.exists(outpath):\n",
    "        os.mkdir(outpath)\n",
    "\n",
    "    symlink_from_list(tmp['abspath_rawcolor'].to_list(), outpath)"
   ]
  },
  {
   "cell_type": "markdown",
   "metadata": {},
   "source": [
    "Save all the images into a single directory for manual processing."
   ]
  },
  {
   "cell_type": "code",
   "execution_count": 4,
   "metadata": {},
   "outputs": [
    {
     "name": "stdout",
     "output_type": "stream",
     "text": [
      "processed-2021-07-27-03-05-34.041094512-low_mag_cam\n",
      "number of frames in time interval:  24923\n",
      "number of frames after size filter:  1620\n",
      "processed-2021-07-26-11-10-34.051148696-low_mag_cam\n",
      "number of frames in time interval:  15079\n",
      "number of frames after size filter:  776\n",
      "processed-2021-07-26-03-05-33.041805816-low_mag_cam\n",
      "number of frames in time interval:  16606\n",
      "number of frames after size filter:  909\n",
      "processed-2021-07-25-11-10-36.057611408-low_mag_cam\n",
      "number of frames in time interval:  18742\n",
      "number of frames after size filter:  999\n",
      "processed-2021-08-10-09-30-25.044459792-low_mag_cam\n",
      "number of frames in time interval:  17430\n",
      "number of frames after size filter:  1501\n",
      "processed-2021-08-11-03-05-24.042119200-low_mag_cam\n",
      "number of frames in time interval:  8960\n",
      "number of frames after size filter:  1058\n",
      "processed-2021-08-09-09-30-27.040390608-low_mag_cam\n",
      "number of frames in time interval:  18854\n",
      "number of frames after size filter:  1773\n",
      "processed-2021-08-10-03-05-25.043638328-low_mag_cam\n",
      "number of frames in time interval:  13220\n",
      "number of frames after size filter:  1168\n"
     ]
    }
   ],
   "source": [
    "sv_path = r'D:\\model_eval_101122\\manual_ground_truth_131122'\n",
    "\n",
    "for kk in runs.keys():\n",
    "\n",
    "    print(kk)\n",
    "    # read the look up table\n",
    "    tmp = pd.read_csv(os.path.join(path_to_lookup, f'{kk}.csv'), index_col=[0])\n",
    "\n",
    "    # get the slice observed by the human annotator\n",
    "    tmp = tmp[tmp['frame_number'].between(runs[kk], runs[kk]+50000)]\n",
    "\n",
    "    print('number of frames in time interval: ', tmp.shape[0])\n",
    "\n",
    "    # filter by major axis length\n",
    "    tmp = tmp[tmp['major_axis_length'].between(min_thresh, max_thresh)]\n",
    "    print('number of frames after size filter: ', tmp.shape[0])\n",
    "    \n",
    "    # symlink the images \n",
    "    outpath = os.path.join(sv_path, kk)\n",
    "    if not os.path.exists(outpath):\n",
    "        os.mkdir(outpath)\n",
    "\n",
    "    for item in tmp['abspath_rawcolor'].to_list():\n",
    "        copy(item, os.path.join(outpath, os.path.basename(item)))"
   ]
  },
  {
   "cell_type": "code",
   "execution_count": 6,
   "metadata": {},
   "outputs": [
    {
     "ename": "FileExistsError",
     "evalue": "[WinError 183] Cannot create a file when that file already exists: 'D:\\\\model_eval_101122\\\\manual_ground_truth_131122\\\\processed-2021-07-27-03-05-34.041094512-low_mag_cam\\\\chaetoceros'",
     "output_type": "error",
     "traceback": [
      "\u001b[1;31m---------------------------------------------------------------------------\u001b[0m",
      "\u001b[1;31mFileExistsError\u001b[0m                           Traceback (most recent call last)",
      "\u001b[1;32mc:\\Users\\spc\\software\\eilat_spc_data_wrangling\\filter_eval_imgs.ipynb Cell 10\u001b[0m in \u001b[0;36m<cell line: 1>\u001b[1;34m()\u001b[0m\n\u001b[0;32m      <a href='vscode-notebook-cell:/c%3A/Users/spc/software/eilat_spc_data_wrangling/filter_eval_imgs.ipynb#X12sZmlsZQ%3D%3D?line=2'>3</a>\u001b[0m \u001b[39mfor\u001b[39;00m line \u001b[39min\u001b[39;00m concepts:\n\u001b[0;32m      <a href='vscode-notebook-cell:/c%3A/Users/spc/software/eilat_spc_data_wrangling/filter_eval_imgs.ipynb#X12sZmlsZQ%3D%3D?line=3'>4</a>\u001b[0m     concept_dir \u001b[39m=\u001b[39m os\u001b[39m.\u001b[39mpath\u001b[39m.\u001b[39mjoin(sv_path, kk, line)\n\u001b[1;32m----> <a href='vscode-notebook-cell:/c%3A/Users/spc/software/eilat_spc_data_wrangling/filter_eval_imgs.ipynb#X12sZmlsZQ%3D%3D?line=5'>6</a>\u001b[0m     os\u001b[39m.\u001b[39;49mmkdir(concept_dir)\n",
      "\u001b[1;31mFileExistsError\u001b[0m: [WinError 183] Cannot create a file when that file already exists: 'D:\\\\model_eval_101122\\\\manual_ground_truth_131122\\\\processed-2021-07-27-03-05-34.041094512-low_mag_cam\\\\chaetoceros'"
     ]
    }
   ],
   "source": [
    "for kk in runs.keys():\n",
    "\n",
    "    for line in concepts:\n",
    "        concept_dir = os.path.join(sv_path, kk, line)\n",
    "\n",
    "        os.mkdir(concept_dir)"
   ]
  },
  {
   "cell_type": "code",
   "execution_count": null,
   "metadata": {},
   "outputs": [
    {
     "data": {
      "text/plain": [
       "'D:\\\\model_eval_101122\\\\manual_ground_truth_131122\\\\processed-2021-08-10-03-05-25.043638328-low_mag_cam\\\\Tunicates'"
      ]
     },
     "execution_count": 15,
     "metadata": {},
     "output_type": "execute_result"
    }
   ],
   "source": [
    "concept_dir"
   ]
  },
  {
   "cell_type": "code",
   "execution_count": null,
   "metadata": {},
   "outputs": [
    {
     "data": {
      "text/plain": [
       "['chaetoceros',\n",
       " 'copepoda',\n",
       " 'Diatoms_round_chains',\n",
       " 'Diatoms_single_cells',\n",
       " 'Diatoms_spirals',\n",
       " 'Diatoms_straight_chains',\n",
       " 'Marine_snow_POC',\n",
       " 'mollusca',\n",
       " 'Plankton_all_other_taxa_combined',\n",
       " 'Protozoans',\n",
       " 'Tunicates']"
      ]
     },
     "execution_count": 18,
     "metadata": {},
     "output_type": "execute_result"
    }
   ],
   "source": [
    "concepts"
   ]
  },
  {
   "cell_type": "code",
   "execution_count": null,
   "metadata": {},
   "outputs": [],
   "source": []
  }
 ],
 "metadata": {
  "kernelspec": {
   "display_name": "Python 3.10.6 ('pytorch-1.13')",
   "language": "python",
   "name": "python3"
  },
  "language_info": {
   "codemirror_mode": {
    "name": "ipython",
    "version": 3
   },
   "file_extension": ".py",
   "mimetype": "text/x-python",
   "name": "python",
   "nbconvert_exporter": "python",
   "pygments_lexer": "ipython3",
   "version": "3.10.6"
  },
  "orig_nbformat": 4,
  "vscode": {
   "interpreter": {
    "hash": "45c3fc9df9e26a536c5df7e8db41c4cb97a347975ee4ba515df974138bc06044"
   }
  }
 },
 "nbformat": 4,
 "nbformat_minor": 2
}
